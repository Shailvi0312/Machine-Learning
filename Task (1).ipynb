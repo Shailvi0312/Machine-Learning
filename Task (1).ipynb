{
 "cells": [
  {
   "cell_type": "code",
   "execution_count": 55,
   "metadata": {},
   "outputs": [],
   "source": [
    "import numpy as np\n",
    "import pandas as pd"
   ]
  },
  {
   "cell_type": "code",
   "execution_count": 56,
   "metadata": {},
   "outputs": [
    {
     "data": {
      "text/html": [
       "<div>\n",
       "<style scoped>\n",
       "    .dataframe tbody tr th:only-of-type {\n",
       "        vertical-align: middle;\n",
       "    }\n",
       "\n",
       "    .dataframe tbody tr th {\n",
       "        vertical-align: top;\n",
       "    }\n",
       "\n",
       "    .dataframe thead th {\n",
       "        text-align: right;\n",
       "    }\n",
       "</style>\n",
       "<table border=\"1\" class=\"dataframe\">\n",
       "  <thead>\n",
       "    <tr style=\"text-align: right;\">\n",
       "      <th></th>\n",
       "      <th>Values</th>\n",
       "      <th>Names</th>\n",
       "      <th>City</th>\n",
       "      <th>Cost</th>\n",
       "      <th>Color</th>\n",
       "      <th>Taste</th>\n",
       "      <th>Cuisines</th>\n",
       "      <th>Rating</th>\n",
       "    </tr>\n",
       "  </thead>\n",
       "  <tbody>\n",
       "    <tr>\n",
       "      <th>0</th>\n",
       "      <td>1</td>\n",
       "      <td>Paneer</td>\n",
       "      <td>Jaipur</td>\n",
       "      <td>90</td>\n",
       "      <td>White</td>\n",
       "      <td>Sweet</td>\n",
       "      <td>Indian</td>\n",
       "      <td>4.4</td>\n",
       "    </tr>\n",
       "    <tr>\n",
       "      <th>1</th>\n",
       "      <td>2</td>\n",
       "      <td>Pizza</td>\n",
       "      <td>Banglore</td>\n",
       "      <td>80</td>\n",
       "      <td>Yellow</td>\n",
       "      <td>Yummy</td>\n",
       "      <td>Japanese</td>\n",
       "      <td>4.0</td>\n",
       "    </tr>\n",
       "    <tr>\n",
       "      <th>2</th>\n",
       "      <td>3</td>\n",
       "      <td>Burger</td>\n",
       "      <td>Delhi</td>\n",
       "      <td>50</td>\n",
       "      <td>Brown</td>\n",
       "      <td>Crispy</td>\n",
       "      <td>Italian</td>\n",
       "      <td>5.0</td>\n",
       "    </tr>\n",
       "    <tr>\n",
       "      <th>3</th>\n",
       "      <td>4</td>\n",
       "      <td>Dosa</td>\n",
       "      <td>Jaipur</td>\n",
       "      <td>70</td>\n",
       "      <td>White</td>\n",
       "      <td>Crispy</td>\n",
       "      <td>South Indian</td>\n",
       "      <td>3.0</td>\n",
       "    </tr>\n",
       "    <tr>\n",
       "      <th>4</th>\n",
       "      <td>5</td>\n",
       "      <td>Sandwich</td>\n",
       "      <td>Patna</td>\n",
       "      <td>30</td>\n",
       "      <td>White</td>\n",
       "      <td>Crunchy</td>\n",
       "      <td>Indian</td>\n",
       "      <td>4.7</td>\n",
       "    </tr>\n",
       "    <tr>\n",
       "      <th>5</th>\n",
       "      <td>6</td>\n",
       "      <td>Idli</td>\n",
       "      <td>Mumbai</td>\n",
       "      <td>70</td>\n",
       "      <td>White</td>\n",
       "      <td>Yummy</td>\n",
       "      <td>South Indian</td>\n",
       "      <td>5.0</td>\n",
       "    </tr>\n",
       "    <tr>\n",
       "      <th>6</th>\n",
       "      <td>7</td>\n",
       "      <td>Ice Cream</td>\n",
       "      <td>Jaipur</td>\n",
       "      <td>45</td>\n",
       "      <td>Pink</td>\n",
       "      <td>Creamy</td>\n",
       "      <td>Thai</td>\n",
       "      <td>4.4</td>\n",
       "    </tr>\n",
       "    <tr>\n",
       "      <th>7</th>\n",
       "      <td>8</td>\n",
       "      <td>chowmein</td>\n",
       "      <td>Jaipur</td>\n",
       "      <td>110</td>\n",
       "      <td>Brown</td>\n",
       "      <td>Spicy</td>\n",
       "      <td>Chinese</td>\n",
       "      <td>4.7</td>\n",
       "    </tr>\n",
       "    <tr>\n",
       "      <th>8</th>\n",
       "      <td>9</td>\n",
       "      <td>Chicken</td>\n",
       "      <td>Jaipur</td>\n",
       "      <td>220</td>\n",
       "      <td>Brown</td>\n",
       "      <td>Spicy</td>\n",
       "      <td>Indian</td>\n",
       "      <td>5.0</td>\n",
       "    </tr>\n",
       "    <tr>\n",
       "      <th>9</th>\n",
       "      <td>10</td>\n",
       "      <td>Fish</td>\n",
       "      <td>Mumbai</td>\n",
       "      <td>250</td>\n",
       "      <td>Greyish Yellow</td>\n",
       "      <td>Spicy</td>\n",
       "      <td>Indian</td>\n",
       "      <td>5.0</td>\n",
       "    </tr>\n",
       "    <tr>\n",
       "      <th>10</th>\n",
       "      <td>11</td>\n",
       "      <td>Egg Roll</td>\n",
       "      <td>Jaipur</td>\n",
       "      <td>30</td>\n",
       "      <td>White</td>\n",
       "      <td>Yummy</td>\n",
       "      <td>Indian</td>\n",
       "      <td>3.6</td>\n",
       "    </tr>\n",
       "    <tr>\n",
       "      <th>11</th>\n",
       "      <td>12</td>\n",
       "      <td>Sweets</td>\n",
       "      <td>Kolkata</td>\n",
       "      <td>55</td>\n",
       "      <td>Yellow</td>\n",
       "      <td>Sweet</td>\n",
       "      <td>Indian</td>\n",
       "      <td>4.0</td>\n",
       "    </tr>\n",
       "    <tr>\n",
       "      <th>12</th>\n",
       "      <td>13</td>\n",
       "      <td>Chole Bathore</td>\n",
       "      <td>Jaipur</td>\n",
       "      <td>120</td>\n",
       "      <td>Yellow</td>\n",
       "      <td>Spicy</td>\n",
       "      <td>Indian</td>\n",
       "      <td>4.5</td>\n",
       "    </tr>\n",
       "  </tbody>\n",
       "</table>\n",
       "</div>"
      ],
      "text/plain": [
       "    Values          Names      City  Cost           Color    Taste  \\\n",
       "0        1         Paneer    Jaipur    90           White    Sweet   \n",
       "1        2          Pizza  Banglore    80          Yellow    Yummy   \n",
       "2        3         Burger     Delhi    50           Brown   Crispy   \n",
       "3        4           Dosa    Jaipur    70           White   Crispy   \n",
       "4        5       Sandwich     Patna    30           White  Crunchy   \n",
       "5        6           Idli    Mumbai    70           White    Yummy   \n",
       "6        7      Ice Cream    Jaipur    45            Pink   Creamy   \n",
       "7        8       chowmein    Jaipur   110           Brown    Spicy   \n",
       "8        9        Chicken    Jaipur   220           Brown    Spicy   \n",
       "9       10           Fish    Mumbai   250  Greyish Yellow    Spicy   \n",
       "10      11       Egg Roll    Jaipur    30           White    Yummy   \n",
       "11      12         Sweets   Kolkata    55          Yellow    Sweet   \n",
       "12      13  Chole Bathore    Jaipur   120          Yellow    Spicy   \n",
       "\n",
       "        Cuisines  Rating  \n",
       "0         Indian     4.4  \n",
       "1       Japanese     4.0  \n",
       "2        Italian     5.0  \n",
       "3   South Indian     3.0  \n",
       "4         Indian     4.7  \n",
       "5   South Indian     5.0  \n",
       "6           Thai     4.4  \n",
       "7        Chinese     4.7  \n",
       "8         Indian     5.0  \n",
       "9         Indian     5.0  \n",
       "10        Indian     3.6  \n",
       "11        Indian     4.0  \n",
       "12        Indian     4.5  "
      ]
     },
     "execution_count": 56,
     "metadata": {},
     "output_type": "execute_result"
    }
   ],
   "source": [
    "df=pd.read_excel(r'C:\\Users\\shailvi\\Documents\\Food.xlsx')\n",
    "df\n"
   ]
  },
  {
   "cell_type": "code",
   "execution_count": 57,
   "metadata": {},
   "outputs": [
    {
     "data": {
      "text/plain": [
       "Spicy      4\n",
       "Yummy      3\n",
       "Crispy     2\n",
       "Sweet      2\n",
       "Creamy     1\n",
       "Crunchy    1\n",
       "Name: Taste, dtype: int64"
      ]
     },
     "execution_count": 57,
     "metadata": {},
     "output_type": "execute_result"
    }
   ],
   "source": [
    "#Counts of different tastes for foods\n",
    "\n",
    "df['Taste'].value_counts()"
   ]
  },
  {
   "cell_type": "code",
   "execution_count": 58,
   "metadata": {},
   "outputs": [
    {
     "data": {
      "text/html": [
       "<div>\n",
       "<style scoped>\n",
       "    .dataframe tbody tr th:only-of-type {\n",
       "        vertical-align: middle;\n",
       "    }\n",
       "\n",
       "    .dataframe tbody tr th {\n",
       "        vertical-align: top;\n",
       "    }\n",
       "\n",
       "    .dataframe thead th {\n",
       "        text-align: right;\n",
       "    }\n",
       "</style>\n",
       "<table border=\"1\" class=\"dataframe\">\n",
       "  <thead>\n",
       "    <tr style=\"text-align: right;\">\n",
       "      <th></th>\n",
       "      <th>Values</th>\n",
       "      <th>Cost</th>\n",
       "      <th>Rating</th>\n",
       "    </tr>\n",
       "  </thead>\n",
       "  <tbody>\n",
       "    <tr>\n",
       "      <th>count</th>\n",
       "      <td>13.00000</td>\n",
       "      <td>13.000000</td>\n",
       "      <td>13.000000</td>\n",
       "    </tr>\n",
       "    <tr>\n",
       "      <th>mean</th>\n",
       "      <td>7.00000</td>\n",
       "      <td>93.846154</td>\n",
       "      <td>4.407692</td>\n",
       "    </tr>\n",
       "    <tr>\n",
       "      <th>std</th>\n",
       "      <td>3.89444</td>\n",
       "      <td>68.652320</td>\n",
       "      <td>0.615713</td>\n",
       "    </tr>\n",
       "    <tr>\n",
       "      <th>min</th>\n",
       "      <td>1.00000</td>\n",
       "      <td>30.000000</td>\n",
       "      <td>3.000000</td>\n",
       "    </tr>\n",
       "    <tr>\n",
       "      <th>25%</th>\n",
       "      <td>4.00000</td>\n",
       "      <td>50.000000</td>\n",
       "      <td>4.000000</td>\n",
       "    </tr>\n",
       "    <tr>\n",
       "      <th>50%</th>\n",
       "      <td>7.00000</td>\n",
       "      <td>70.000000</td>\n",
       "      <td>4.500000</td>\n",
       "    </tr>\n",
       "    <tr>\n",
       "      <th>75%</th>\n",
       "      <td>10.00000</td>\n",
       "      <td>110.000000</td>\n",
       "      <td>5.000000</td>\n",
       "    </tr>\n",
       "    <tr>\n",
       "      <th>max</th>\n",
       "      <td>13.00000</td>\n",
       "      <td>250.000000</td>\n",
       "      <td>5.000000</td>\n",
       "    </tr>\n",
       "  </tbody>\n",
       "</table>\n",
       "</div>"
      ],
      "text/plain": [
       "         Values        Cost     Rating\n",
       "count  13.00000   13.000000  13.000000\n",
       "mean    7.00000   93.846154   4.407692\n",
       "std     3.89444   68.652320   0.615713\n",
       "min     1.00000   30.000000   3.000000\n",
       "25%     4.00000   50.000000   4.000000\n",
       "50%     7.00000   70.000000   4.500000\n",
       "75%    10.00000  110.000000   5.000000\n",
       "max    13.00000  250.000000   5.000000"
      ]
     },
     "execution_count": 58,
     "metadata": {},
     "output_type": "execute_result"
    }
   ],
   "source": [
    "df.describe()"
   ]
  },
  {
   "cell_type": "code",
   "execution_count": null,
   "metadata": {},
   "outputs": [],
   "source": [
    "# Food availability in jaipur and taste is spicy"
   ]
  },
  {
   "cell_type": "code",
   "execution_count": 60,
   "metadata": {},
   "outputs": [
    {
     "data": {
      "text/html": [
       "<div>\n",
       "<style scoped>\n",
       "    .dataframe tbody tr th:only-of-type {\n",
       "        vertical-align: middle;\n",
       "    }\n",
       "\n",
       "    .dataframe tbody tr th {\n",
       "        vertical-align: top;\n",
       "    }\n",
       "\n",
       "    .dataframe thead th {\n",
       "        text-align: right;\n",
       "    }\n",
       "</style>\n",
       "<table border=\"1\" class=\"dataframe\">\n",
       "  <thead>\n",
       "    <tr style=\"text-align: right;\">\n",
       "      <th></th>\n",
       "      <th>Values</th>\n",
       "      <th>Names</th>\n",
       "      <th>City</th>\n",
       "      <th>Cost</th>\n",
       "      <th>Color</th>\n",
       "      <th>Taste</th>\n",
       "      <th>Cuisines</th>\n",
       "      <th>Rating</th>\n",
       "    </tr>\n",
       "  </thead>\n",
       "  <tbody>\n",
       "    <tr>\n",
       "      <th>7</th>\n",
       "      <td>8</td>\n",
       "      <td>chowmein</td>\n",
       "      <td>Jaipur</td>\n",
       "      <td>110</td>\n",
       "      <td>Brown</td>\n",
       "      <td>Spicy</td>\n",
       "      <td>Chinese</td>\n",
       "      <td>4.7</td>\n",
       "    </tr>\n",
       "    <tr>\n",
       "      <th>8</th>\n",
       "      <td>9</td>\n",
       "      <td>Chicken</td>\n",
       "      <td>Jaipur</td>\n",
       "      <td>220</td>\n",
       "      <td>Brown</td>\n",
       "      <td>Spicy</td>\n",
       "      <td>Indian</td>\n",
       "      <td>5.0</td>\n",
       "    </tr>\n",
       "    <tr>\n",
       "      <th>12</th>\n",
       "      <td>13</td>\n",
       "      <td>Chole Bathore</td>\n",
       "      <td>Jaipur</td>\n",
       "      <td>120</td>\n",
       "      <td>Yellow</td>\n",
       "      <td>Spicy</td>\n",
       "      <td>Indian</td>\n",
       "      <td>4.5</td>\n",
       "    </tr>\n",
       "  </tbody>\n",
       "</table>\n",
       "</div>"
      ],
      "text/plain": [
       "    Values          Names    City  Cost   Color  Taste Cuisines  Rating\n",
       "7        8       chowmein  Jaipur   110   Brown  Spicy  Chinese     4.7\n",
       "8        9        Chicken  Jaipur   220   Brown  Spicy   Indian     5.0\n",
       "12      13  Chole Bathore  Jaipur   120  Yellow  Spicy   Indian     4.5"
      ]
     },
     "execution_count": 60,
     "metadata": {},
     "output_type": "execute_result"
    }
   ],
   "source": [
    "df[(df['City']=='Jaipur') & (df['Taste']=='Spicy')]"
   ]
  },
  {
   "cell_type": "code",
   "execution_count": 63,
   "metadata": {},
   "outputs": [
    {
     "data": {
      "text/plain": [
       "'Yellow'"
      ]
     },
     "execution_count": 63,
     "metadata": {},
     "output_type": "execute_result"
    }
   ],
   "source": [
    "#Maximum\n",
    "\n",
    "df['Color'].max()\n",
    "\n"
   ]
  },
  {
   "cell_type": "code",
   "execution_count": 64,
   "metadata": {},
   "outputs": [
    {
     "data": {
      "text/html": [
       "<div>\n",
       "<style scoped>\n",
       "    .dataframe tbody tr th:only-of-type {\n",
       "        vertical-align: middle;\n",
       "    }\n",
       "\n",
       "    .dataframe tbody tr th {\n",
       "        vertical-align: top;\n",
       "    }\n",
       "\n",
       "    .dataframe thead th {\n",
       "        text-align: right;\n",
       "    }\n",
       "</style>\n",
       "<table border=\"1\" class=\"dataframe\">\n",
       "  <thead>\n",
       "    <tr style=\"text-align: right;\">\n",
       "      <th></th>\n",
       "      <th>Values</th>\n",
       "      <th>Names</th>\n",
       "      <th>City</th>\n",
       "      <th>Cost</th>\n",
       "      <th>Color</th>\n",
       "      <th>Taste</th>\n",
       "      <th>Cuisines</th>\n",
       "      <th>Rating</th>\n",
       "    </tr>\n",
       "  </thead>\n",
       "  <tbody>\n",
       "    <tr>\n",
       "      <th>0</th>\n",
       "      <td>1</td>\n",
       "      <td>Paneer</td>\n",
       "      <td>Jaipur</td>\n",
       "      <td>90</td>\n",
       "      <td>White</td>\n",
       "      <td>Sweet</td>\n",
       "      <td>Indian</td>\n",
       "      <td>4.4</td>\n",
       "    </tr>\n",
       "    <tr>\n",
       "      <th>3</th>\n",
       "      <td>4</td>\n",
       "      <td>Dosa</td>\n",
       "      <td>Jaipur</td>\n",
       "      <td>70</td>\n",
       "      <td>White</td>\n",
       "      <td>Crispy</td>\n",
       "      <td>South Indian</td>\n",
       "      <td>3.0</td>\n",
       "    </tr>\n",
       "    <tr>\n",
       "      <th>10</th>\n",
       "      <td>11</td>\n",
       "      <td>Egg Roll</td>\n",
       "      <td>Jaipur</td>\n",
       "      <td>30</td>\n",
       "      <td>White</td>\n",
       "      <td>Yummy</td>\n",
       "      <td>Indian</td>\n",
       "      <td>3.6</td>\n",
       "    </tr>\n",
       "  </tbody>\n",
       "</table>\n",
       "</div>"
      ],
      "text/plain": [
       "    Values     Names    City  Cost  Color   Taste      Cuisines  Rating\n",
       "0        1    Paneer  Jaipur    90  White   Sweet        Indian     4.4\n",
       "3        4      Dosa  Jaipur    70  White  Crispy  South Indian     3.0\n",
       "10      11  Egg Roll  Jaipur    30  White   Yummy        Indian     3.6"
      ]
     },
     "execution_count": 64,
     "metadata": {},
     "output_type": "execute_result"
    }
   ],
   "source": [
    "#White food found in Jaipur\n",
    "\n",
    "df[(df['City']=='Jaipur') & (df['Color']=='White')]"
   ]
  },
  {
   "cell_type": "code",
   "execution_count": 66,
   "metadata": {},
   "outputs": [
    {
     "data": {
      "text/plain": [
       "9    Fish\n",
       "Name: Names, dtype: object"
      ]
     },
     "execution_count": 66,
     "metadata": {},
     "output_type": "execute_result"
    }
   ],
   "source": [
    "#Food which is available in Mumbai and is spicy\n",
    "df['Names'][(df['City']=='Mumbai')&(df['Taste']=='Spicy')]"
   ]
  },
  {
   "cell_type": "code",
   "execution_count": 73,
   "metadata": {},
   "outputs": [
    {
     "data": {
      "text/plain": [
       "5.0"
      ]
     },
     "execution_count": 73,
     "metadata": {},
     "output_type": "execute_result"
    }
   ],
   "source": [
    "#Which cuisine most popular\n",
    "mp=df['Rating'].max()\n",
    "mp"
   ]
  },
  {
   "cell_type": "code",
   "execution_count": 74,
   "metadata": {},
   "outputs": [
    {
     "data": {
      "text/plain": [
       "2         Italian\n",
       "5    South Indian\n",
       "8          Indian\n",
       "9          Indian\n",
       "Name: Cuisines, dtype: object"
      ]
     },
     "execution_count": 74,
     "metadata": {},
     "output_type": "execute_result"
    }
   ],
   "source": [
    "df.loc[df['Rating']==mp,'Cuisines']"
   ]
  },
  {
   "cell_type": "code",
   "execution_count": 67,
   "metadata": {},
   "outputs": [
    {
     "data": {
      "text/plain": [
       "250"
      ]
     },
     "execution_count": 67,
     "metadata": {},
     "output_type": "execute_result"
    }
   ],
   "source": [
    "#Costliest Food\n",
    "cf=df['Cost'].max() \n",
    "cf"
   ]
  },
  {
   "cell_type": "code",
   "execution_count": 52,
   "metadata": {},
   "outputs": [
    {
     "data": {
      "text/plain": [
       "9    Fish\n",
       "Name: Names, dtype: object"
      ]
     },
     "execution_count": 52,
     "metadata": {},
     "output_type": "execute_result"
    }
   ],
   "source": [
    "df.loc[df['Cost']==cf,'Names'] "
   ]
  },
  {
   "cell_type": "code",
   "execution_count": null,
   "metadata": {},
   "outputs": [],
   "source": []
  }
 ],
 "metadata": {
  "kernelspec": {
   "display_name": "Python 3",
   "language": "python",
   "name": "python3"
  },
  "language_info": {
   "codemirror_mode": {
    "name": "ipython",
    "version": 3
   },
   "file_extension": ".py",
   "mimetype": "text/x-python",
   "name": "python",
   "nbconvert_exporter": "python",
   "pygments_lexer": "ipython3",
   "version": "3.7.6"
  }
 },
 "nbformat": 4,
 "nbformat_minor": 4
}
